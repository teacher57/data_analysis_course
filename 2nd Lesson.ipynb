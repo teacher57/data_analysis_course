{
 "cells": [
  {
   "cell_type": "markdown",
   "id": "ec4f1725",
   "metadata": {},
   "source": [
    "20сен23\n",
    "# Начало Pandas. Series, Index, Array.\n",
    "* Что такое функция?\n",
    "* Что такое библиотека?\n",
    "* Почему Pandas мне пригодится? В нем что, есть какие-то полезные функции?\n",
    "* Чем Series отличается от обычного списка?\n",
    "* А NumPy тут при чем?\n",
    "\n",
    "## Немного теории\n",
    "Функция в программировании – это своеобразная часть кода, совокупность команд, которая необходима для решения поставленной задачи. Я бы описал функцию как черный ящик, в который можно что-то положить (или не класть), а он что-то вернет или сделает.\n",
    "\n",
    "Например, \"готовка яичницы\" это функция. Нам понадобится: сковородка, яйца, соль, сосиски, нож (чтобы порезать сосиски), тарелка и столовые приборы, чтобы подать на стол, – это входные данные. В результате выполнение функции \"готовка яичницы\" мы получим грязные сковородку и нож, но самое важное – готовую яичницу на тарелке, – это все выходные данные.\n",
    "\n",
    "Библиотека — это готовый набор функций и обьектов (что такое обьекты, я расскажу сильно позже) для какого-либо языка программирования. Обычно такие наборы обьединены назначением или сферой использования, например математические библиотеки или веб-библиотеки. Программисты пользуются ими, чтобы ускорять и упрощать свою работу.\n",
    "\n",
    "Например, я хочу написать программу, которая рассчитает положение планеты относительно звезды в конкретный день. Я точно не обойдусь без физических формул и расчетов. Но я не хочу прописывать все эти формулы с нуля, куда лучше будет взять уже готовую библиотеку с этими формулами. Как сделал <html><a href=\"https://habr.com/ru/companies/otus/articles/758526/\" target=\"_blank\">**этот парень**</a></html>.\n",
    "\n",
    "## Библиотека Pandas\n",
    "Библиотека Pandas – основная библиотека, с которой мы будем работать в этом курсе по анализу данных. Я пока не нашел границ возможностей этой библиотеки относительно работы с таблицами. Основное, что мы будем в нем использовать – его типы данных: DataFrame и Series. DataFrame это двумерная таблица, но если взять только один столбец из этой таблицы, это уже будет тип данных Series. О нем в основном мы сегодня и будем говорить.\n"
   ]
  },
  {
   "cell_type": "code",
   "execution_count": 1,
   "id": "7b5eb1ef",
   "metadata": {},
   "outputs": [],
   "source": [
    "# импорт типа данных\n",
    "from pandas import Series\n",
    "\n",
    "# конечно, можно импортировать pandas целиком, но пожалей свое и мое железо\n",
    "# весь pandas это сильно больше, чем нужно"
   ]
  },
  {
   "cell_type": "markdown",
   "id": "7370d744",
   "metadata": {},
   "source": [
    "## Series\n",
    "Полную документацию можно найти по <a href=\"https://pandas.pydata.org/docs/reference/series.html\" target=\"_blank\">**ссылке**</a>. Я расскажу только то, что на мой взгляд больше всего понадобится."
   ]
  },
  {
   "cell_type": "code",
   "execution_count": 2,
   "id": "1e710339",
   "metadata": {},
   "outputs": [
    {
     "data": {
      "text/plain": [
       "0    2758\n",
       "1    2760\n",
       "2    2777\n",
       "3    2754\n",
       "dtype: int64"
      ]
     },
     "execution_count": 2,
     "metadata": {},
     "output_type": "execute_result"
    }
   ],
   "source": [
    "# так создается переменная типа Series\n",
    "chess1 = Series([2758, 2760, 2777, 2754])\n",
    "chess1"
   ]
  },
  {
   "cell_type": "markdown",
   "id": "e835e9e8",
   "metadata": {},
   "source": [
    "Я, кажется, не рассказывал раньше о таком способе вывода, он на самом деле есть и просто так в питоне, но только в консоли. В ноутбуке им очень часто пользуются, потому что это проще, чем каждый раз писать print().\n",
    "\n",
    "Так вот, что нам выдал код. Левый столбец – индексы, правый столбец – значения, чуть ниже написан тип данных (int64). Это значит, что все числа целые и каждое задается 64 байтами памяти."
   ]
  },
  {
   "cell_type": "code",
   "execution_count": 3,
   "id": "c85f64c4",
   "metadata": {},
   "outputs": [
    {
     "data": {
      "text/plain": [
       "Магнус Карлсен     2839\n",
       "Фабиано Каруана    2786\n",
       "Хикару Накамура    2780\n",
       "Дин Лижэнь         2780\n",
       "Ян Непомнящий      2771\n",
       "dtype: int64"
      ]
     },
     "execution_count": 3,
     "metadata": {},
     "output_type": "execute_result"
    }
   ],
   "source": [
    "# другой способ присвоения\n",
    "chess2 = Series([2839, 2786, 2780, 2780, 2771], \n",
    "           index = [\"Магнус Карлсен\", \"Фабиано Каруана\",\n",
    "                    \"Хикару Накамура\", \"Дин Лижэнь\", \"Ян Непомнящий\"])\n",
    "chess2"
   ]
  },
  {
   "cell_type": "markdown",
   "id": "3c02416b",
   "metadata": {},
   "source": [
    "Список слева стал списком значений, а список справа стал списком индексов"
   ]
  },
  {
   "cell_type": "code",
   "execution_count": 4,
   "id": "036f9736",
   "metadata": {},
   "outputs": [
    {
     "data": {
      "text/plain": [
       "2781"
      ]
     },
     "execution_count": 4,
     "metadata": {},
     "output_type": "execute_result"
    }
   ],
   "source": [
    "# теперь к элементам этого массива можно обращаться по слову\n",
    "chess2[\"Ян Непомнящий\"] += 10\n",
    "chess2[\"Ян Непомнящий\"]"
   ]
  },
  {
   "cell_type": "code",
   "execution_count": 5,
   "id": "86dda343",
   "metadata": {},
   "outputs": [
    {
     "data": {
      "text/plain": [
       "2771"
      ]
     },
     "execution_count": 5,
     "metadata": {},
     "output_type": "execute_result"
    }
   ],
   "source": [
    "# но и обращение по индексу (номеру) не отменяется\n",
    "chess2[-1] -= 10\n",
    "chess2[-1]"
   ]
  },
  {
   "cell_type": "markdown",
   "id": "7f1d0261",
   "metadata": {},
   "source": [
    "Получается, у Series есть много общего не только со списком, но и со словарем."
   ]
  },
  {
   "cell_type": "code",
   "execution_count": 6,
   "id": "f2ed2bef",
   "metadata": {},
   "outputs": [
    {
     "data": {
      "text/plain": [
       "Гукеш Доммараджу    2758\n",
       "Алиреза Фируджа     2777\n",
       "Аниш Гири           2760\n",
       "Вишванатан Ананд    2754\n",
       "Ян Непомнящий       2771\n",
       "dtype: int64"
      ]
     },
     "execution_count": 6,
     "metadata": {},
     "output_type": "execute_result"
    }
   ],
   "source": [
    "# настолько много, что Series можно создавать прямо из словаря\n",
    "chess1 = Series({\"Гукеш Доммараджу\":2758,\n",
    "                 \"Алиреза Фируджа\":2777,\n",
    "                 \"Аниш Гири\":2760,\n",
    "                 \"Вишванатан Ананд\":2754,\n",
    "                 \"Ян Непомнящий\":2771})\n",
    "chess1"
   ]
  },
  {
   "cell_type": "code",
   "execution_count": 7,
   "id": "5c3836a8",
   "metadata": {},
   "outputs": [
    {
     "data": {
      "text/plain": [
       "Гукеш Доммараджу    2758\n",
       "Алиреза Фируджа     2777\n",
       "Аниш Гири           2760\n",
       "Вишванатан Ананд    2754\n",
       "Ян Непомнящий       2771\n",
       "Магнус Карлсен      2839\n",
       "dtype: int64"
      ]
     },
     "execution_count": 7,
     "metadata": {},
     "output_type": "execute_result"
    }
   ],
   "source": [
    "# можно добавить один элемент так же, как и в словарь\n",
    "chess1[\"Магнус Карлсен\"] = 2839\n",
    "chess1"
   ]
  },
  {
   "cell_type": "code",
   "execution_count": 8,
   "id": "47e02251",
   "metadata": {},
   "outputs": [
    {
     "data": {
      "text/plain": [
       "Алиреза Фируджа        NaN\n",
       "Аниш Гири              NaN\n",
       "Вишванатан Ананд       NaN\n",
       "Гукеш Доммараджу       NaN\n",
       "Дин Лижэнь             NaN\n",
       "Магнус Карлсен      5678.0\n",
       "Фабиано Каруана        NaN\n",
       "Хикару Накамура        NaN\n",
       "Ян Непомнящий       5542.0\n",
       "dtype: float64"
      ]
     },
     "execution_count": 8,
     "metadata": {},
     "output_type": "execute_result"
    }
   ],
   "source": [
    "# Series можно складывать обычным оператором +\n",
    "# причем значения сложатся, если возможно, если нет – будет NaN (not a number)\n",
    "chess = chess1 + chess2\n",
    "chess"
   ]
  },
  {
   "cell_type": "code",
   "execution_count": 9,
   "id": "afa12ebf",
   "metadata": {},
   "outputs": [
    {
     "data": {
      "text/plain": [
       "Алиреза Фируджа     2777.0\n",
       "Аниш Гири           2760.0\n",
       "Вишванатан Ананд    2754.0\n",
       "Гукеш Доммараджу    2758.0\n",
       "Дин Лижэнь          2780.0\n",
       "Магнус Карлсен      5678.0\n",
       "Фабиано Каруана     2786.0\n",
       "Хикару Накамура     2780.0\n",
       "Ян Непомнящий       5542.0\n",
       "dtype: float64"
      ]
     },
     "execution_count": 9,
     "metadata": {},
     "output_type": "execute_result"
    }
   ],
   "source": [
    "# если не хочется, чтобы пропали значения, можно воспользоваться методом add\n",
    "# он так же будет их складывать, если возможно\n",
    "chess = chess1.add(chess2, fill_value=0)\n",
    "chess"
   ]
  },
  {
   "cell_type": "code",
   "execution_count": 10,
   "id": "7882f4b4",
   "metadata": {},
   "outputs": [
    {
     "data": {
      "text/plain": [
       "9"
      ]
     },
     "execution_count": 10,
     "metadata": {},
     "output_type": "execute_result"
    }
   ],
   "source": [
    "# так можно узнать размер \n",
    "chess.size"
   ]
  },
  {
   "cell_type": "code",
   "execution_count": 11,
   "id": "6cf612ca",
   "metadata": {},
   "outputs": [
    {
     "data": {
      "text/plain": [
       "[2777.0, 2760.0, 2754.0, 2758.0, 2780.0, 5678.0, 2786.0, 2780.0, 5542.0]"
      ]
     },
     "execution_count": 11,
     "metadata": {},
     "output_type": "execute_result"
    }
   ],
   "source": [
    "# так можно преобразовать Series обратно в список, при этом строчные индексы потеряются\n",
    "chess_list = chess.to_list()\n",
    "chess_list"
   ]
  },
  {
   "cell_type": "code",
   "execution_count": 12,
   "id": "e05992e7",
   "metadata": {},
   "outputs": [
    {
     "data": {
      "text/plain": [
       "30615.0"
      ]
     },
     "execution_count": 12,
     "metadata": {},
     "output_type": "execute_result"
    }
   ],
   "source": [
    "# так можно посчитать сумму элементов (если это числа, конечно)\n",
    "chess.sum()"
   ]
  },
  {
   "cell_type": "code",
   "execution_count": 13,
   "id": "489e7780",
   "metadata": {},
   "outputs": [
    {
     "data": {
      "text/plain": [
       "Вишванатан Ананд    2754\n",
       "Гукеш Доммараджу    2758\n",
       "Аниш Гири           2760\n",
       "Ян Непомнящий       2771\n",
       "Алиреза Фируджа     2777\n",
       "Магнус Карлсен      2839\n",
       "dtype: int64"
      ]
     },
     "execution_count": 13,
     "metadata": {},
     "output_type": "execute_result"
    }
   ],
   "source": [
    "# обьект типа Series можно отсортировать по значениям в порядке возрастания\n",
    "chess1 = chess1.sort_values()\n",
    "chess1"
   ]
  },
  {
   "cell_type": "code",
   "execution_count": 14,
   "id": "0de664b3",
   "metadata": {},
   "outputs": [
    {
     "data": {
      "text/plain": [
       "Магнус Карлсен      2839\n",
       "Алиреза Фируджа     2777\n",
       "Ян Непомнящий       2771\n",
       "Аниш Гири           2760\n",
       "Гукеш Доммараджу    2758\n",
       "Вишванатан Ананд    2754\n",
       "dtype: int64"
      ]
     },
     "execution_count": 14,
     "metadata": {},
     "output_type": "execute_result"
    }
   ],
   "source": [
    "# а можно и в порядке убывания\n",
    "chess1.sort_values(ascending=False)"
   ]
  },
  {
   "cell_type": "code",
   "execution_count": 15,
   "id": "03edddc1",
   "metadata": {},
   "outputs": [
    {
     "data": {
      "text/plain": [
       "Алиреза Фируджа     2777\n",
       "Аниш Гири           2760\n",
       "Вишванатан Ананд    2754\n",
       "Гукеш Доммараджу    2758\n",
       "Магнус Карлсен      2839\n",
       "Ян Непомнящий       2771\n",
       "dtype: int64"
      ]
     },
     "execution_count": 15,
     "metadata": {},
     "output_type": "execute_result"
    }
   ],
   "source": [
    "# можно так же сортировать по индексам\n",
    "chess1.sort_index()"
   ]
  },
  {
   "cell_type": "markdown",
   "id": "d82562d7",
   "metadata": {},
   "source": [
    "Теперь посмотрим, что будет, если попробовать вытащить из Series индексы и значения по отдельности"
   ]
  },
  {
   "cell_type": "code",
   "execution_count": 16,
   "id": "7e09f7ba",
   "metadata": {},
   "outputs": [
    {
     "data": {
      "text/plain": [
       "Index(['Алиреза Фируджа', 'Аниш Гири', 'Вишванатан Ананд', 'Гукеш Доммараджу',\n",
       "       'Дин Лижэнь', 'Магнус Карлсен', 'Фабиано Каруана', 'Хикару Накамура',\n",
       "       'Ян Непомнящий'],\n",
       "      dtype='object')"
      ]
     },
     "execution_count": 16,
     "metadata": {},
     "output_type": "execute_result"
    }
   ],
   "source": [
    "chess.index"
   ]
  },
  {
   "cell_type": "code",
   "execution_count": 17,
   "id": "2638bc4f",
   "metadata": {},
   "outputs": [
    {
     "data": {
      "text/plain": [
       "array([2777., 2760., 2754., 2758., 2780., 5678., 2786., 2780., 5542.])"
      ]
     },
     "execution_count": 17,
     "metadata": {},
     "output_type": "execute_result"
    }
   ],
   "source": [
    "chess.values"
   ]
  },
  {
   "cell_type": "markdown",
   "id": "da90a35b",
   "metadata": {},
   "source": [
    "Мы только что получили два неизвестных нам ранее типа данных: Index и array."
   ]
  },
  {
   "cell_type": "markdown",
   "id": "08bcf1d4",
   "metadata": {},
   "source": [
    "## Index\n",
    "Полная документация <a href=\"https://pandas.pydata.org/docs/reference/api/pandas.Index.html\" target=\"_blank\">**здесь**</a>.\n",
    "\n",
    "Это вспомогательный тип данных в библиотеке pandas. Как ни удивительно, он нужен для индексации остальных типов данных, таких как Series или DataFrame (о нем мы поговорим позже). В общем-то почти полный аналог списка в python, если я все правильно понял (:\n",
    "\n",
    "При необходимости обьект типа Series можно переиндексировать."
   ]
  },
  {
   "cell_type": "code",
   "execution_count": 18,
   "id": "cb1b74bd",
   "metadata": {},
   "outputs": [
    {
     "name": "stdout",
     "output_type": "stream",
     "text": [
      "Магнус Карлсен     2839\n",
      "Фабиано Каруана    2786\n",
      "Хикару Накамура    2780\n",
      "Дин Лижэнь         2780\n",
      "Ян Непомнящий      2771\n",
      "dtype: int64\n"
     ]
    },
    {
     "data": {
      "text/plain": [
       "first     2839\n",
       "second    2786\n",
       "third     2780\n",
       "fourth    2780\n",
       "fifth     2771\n",
       "dtype: int64"
      ]
     },
     "execution_count": 18,
     "metadata": {},
     "output_type": "execute_result"
    }
   ],
   "source": [
    "# сначала импортирую\n",
    "from pandas import Index\n",
    "\n",
    "print(chess2)\n",
    "\n",
    "# создаю обьект типа Index\n",
    "new_index = Index([\"first\", \"second\", \"third\", \"fourth\", \"fifth\"])\n",
    "\n",
    "# переиндексирую\n",
    "chess2.index = new_index\n",
    "chess2"
   ]
  },
  {
   "cell_type": "markdown",
   "id": "e03f35cb",
   "metadata": {},
   "source": [
    "## Array\n",
    "В общем-то еще один вид массива. Он-то точно тебе понравится!\n",
    "\n",
    "Я советую пользоваться типом array из библиотеки NumPy, потому что в этой библиотеке так же есть много математических функций, которые позже очень сильно пригодятся."
   ]
  },
  {
   "cell_type": "code",
   "execution_count": 19,
   "id": "1d5564a9",
   "metadata": {},
   "outputs": [
    {
     "data": {
      "text/plain": [
       "array([[0., 0., 0., 0., 0.],\n",
       "       [0., 0., 0., 0., 0.],\n",
       "       [0., 0., 0., 0., 0.],\n",
       "       [0., 0., 0., 0., 0.],\n",
       "       [0., 0., 0., 0., 0.]])"
      ]
     },
     "execution_count": 19,
     "metadata": {},
     "output_type": "execute_result"
    }
   ],
   "source": [
    "# импортирую тип данных\n",
    "from numpy import array, zeros, ones\n",
    "\n",
    "# такой функцией задается массив из нулей\n",
    "arr = zeros((5, 5)) # в скобках задаются размеры\n",
    "arr"
   ]
  },
  {
   "cell_type": "code",
   "execution_count": 20,
   "id": "c1c5de78",
   "metadata": {},
   "outputs": [
    {
     "data": {
      "text/plain": [
       "array([[[1., 1., 1.],\n",
       "        [1., 1., 1.],\n",
       "        [1., 1., 1.]],\n",
       "\n",
       "       [[1., 1., 1.],\n",
       "        [1., 1., 1.],\n",
       "        [1., 1., 1.]],\n",
       "\n",
       "       [[1., 1., 1.],\n",
       "        [1., 1., 1.],\n",
       "        [1., 1., 1.]]])"
      ]
     },
     "execution_count": 20,
     "metadata": {},
     "output_type": "execute_result"
    }
   ],
   "source": [
    "# очень удобно задавать трехмерный массив\n",
    "# такая функция создает массив из единиц\n",
    "arr = ones((3, 3, 3))\n",
    "arr"
   ]
  },
  {
   "cell_type": "markdown",
   "id": "c3ed4b1a",
   "metadata": {},
   "source": [
    "Как можно видеть на примерах выше, обьект типа array не имеет такой сложности с выводом, как список, он всегда нагляден и понятен."
   ]
  },
  {
   "cell_type": "code",
   "execution_count": 21,
   "id": "cca8fdf2",
   "metadata": {},
   "outputs": [
    {
     "data": {
      "text/plain": [
       "array([1, 2, 3, 4])"
      ]
     },
     "execution_count": 21,
     "metadata": {},
     "output_type": "execute_result"
    }
   ],
   "source": [
    "# так работает добавление элемента в array\n",
    "from numpy import append\n",
    "arr1 = array([1, 2, 3])\n",
    "arr1 = append(arr1, 4)\n",
    "arr1"
   ]
  },
  {
   "cell_type": "code",
   "execution_count": 22,
   "id": "af582e05",
   "metadata": {},
   "outputs": [
    {
     "data": {
      "text/plain": [
       "array([ 1,  2,  3,  4,  5,  6,  7,  8,  9, 10])"
      ]
     },
     "execution_count": 22,
     "metadata": {},
     "output_type": "execute_result"
    }
   ],
   "source": [
    "# это можно делать с любой вложенностью\n",
    "arr1 = append(arr1, [[5, 6, 7], [8, 9, 10]])\n",
    "arr1"
   ]
  },
  {
   "cell_type": "code",
   "execution_count": 23,
   "id": "b54c84bf",
   "metadata": {},
   "outputs": [
    {
     "data": {
      "text/plain": [
       "10"
      ]
     },
     "execution_count": 23,
     "metadata": {},
     "output_type": "execute_result"
    }
   ],
   "source": [
    "# так можно узнать длину массива array\n",
    "arr1.size"
   ]
  },
  {
   "cell_type": "markdown",
   "id": "ff433611",
   "metadata": {},
   "source": [
    "Главная же идея array заключается в том, что NumPy позволяет проделывать с ним операции поэлементного сложения/вычитания/умножения/деления матриц."
   ]
  },
  {
   "cell_type": "code",
   "execution_count": 24,
   "id": "06b67e35",
   "metadata": {},
   "outputs": [
    {
     "data": {
      "text/plain": [
       "array([[6, 5, 9],\n",
       "       [4, 5, 6]])"
      ]
     },
     "execution_count": 24,
     "metadata": {},
     "output_type": "execute_result"
    }
   ],
   "source": [
    "arr1 = array([[1, 2, 3], [4, 5, 6]]) # двумерный массив\n",
    "arr2 = array([5, 3, 6]) # одномерный массив\n",
    "arr1[0] += arr2 # прибавили к первой строке первого массива второй массив\n",
    "arr1"
   ]
  },
  {
   "cell_type": "code",
   "execution_count": 25,
   "id": "95ae837a",
   "metadata": {},
   "outputs": [
    {
     "data": {
      "text/plain": [
       "array([[54, 40, 63],\n",
       "       [24, 25, 24]])"
      ]
     },
     "execution_count": 25,
     "metadata": {},
     "output_type": "execute_result"
    }
   ],
   "source": [
    "# теперь arr2 тоже двумерный массив такого же размера, как arr1\n",
    "arr2 = array([[9, 8, 7], [6, 5, 4]])\n",
    "arr = arr1 * arr2\n",
    "arr"
   ]
  },
  {
   "cell_type": "markdown",
   "id": "4bfbc30c",
   "metadata": {},
   "source": [
    "Замечу, что умножились они поэлементно.\n",
    "\n",
    "А вот эта функция умножает матрицы по-настоящему (обычному правилу умножения матриц). Если ты еще не знаешь, что такое умножение матриц, желаю тебе счастливо провести все то время, которое тебе осталось до этого рокового момента."
   ]
  },
  {
   "cell_type": "code",
   "execution_count": 26,
   "id": "88ee3218",
   "metadata": {},
   "outputs": [
    {
     "data": {
      "text/plain": [
       "array([[134, 114],\n",
       "       [101,  86]])"
      ]
     },
     "execution_count": 26,
     "metadata": {},
     "output_type": "execute_result"
    }
   ],
   "source": [
    "arr2 = array([[9, 8], [7, 6], [5, 4]])\n",
    "arr = arr1.dot(arr2)\n",
    "arr"
   ]
  },
  {
   "cell_type": "markdown",
   "id": "98172506",
   "metadata": {},
   "source": [
    "### Особенности индексации массива array\n",
    "Как и у списка, у array есть возможность делать срезы элементов. Но есть и дополнительные функции, например итеративный обход."
   ]
  },
  {
   "cell_type": "code",
   "execution_count": 27,
   "id": "08bf5d2c",
   "metadata": {},
   "outputs": [
    {
     "data": {
      "text/plain": [
       "array([[ 2,  4],\n",
       "       [ 6,  8],\n",
       "       [10, 12],\n",
       "       [14, 16]])"
      ]
     },
     "execution_count": 27,
     "metadata": {},
     "output_type": "execute_result"
    }
   ],
   "source": [
    "arr = array([[1, 2, 3, 4], \n",
    "             [5, 6, 7, 8], \n",
    "             [9, 10, 11, 12], \n",
    "             [13, 14, 15, 16]])\n",
    "arr[:, 1::2] # я только что перебрал каждый второй элемент по всем строкам"
   ]
  },
  {
   "cell_type": "code",
   "execution_count": 28,
   "id": "c4b2ba35",
   "metadata": {},
   "outputs": [
    {
     "data": {
      "text/plain": [
       "array([[ 1,  3],\n",
       "       [13, 15]])"
      ]
     },
     "execution_count": 28,
     "metadata": {},
     "output_type": "execute_result"
    }
   ],
   "source": [
    "# это работает ровно как функция range(), только глубина ограничена лишь измерениями массива\n",
    "arr[::3, ::2]"
   ]
  },
  {
   "cell_type": "markdown",
   "id": "8f512e92",
   "metadata": {},
   "source": [
    "Продемонстрирую удобство такой индексации на примере задачи."
   ]
  },
  {
   "cell_type": "markdown",
   "id": "f12c899d",
   "metadata": {},
   "source": [
    "## <a href=\"https://informatics.msk.ru/mod/statements/view.php?id=4898&chapterid=111198#1\" target=\"_blank\">Задача \"Квадраты - 1\"</a>"
   ]
  },
  {
   "cell_type": "code",
   "execution_count": 29,
   "id": "d3113b8b",
   "metadata": {},
   "outputs": [
    {
     "name": "stdout",
     "output_type": "stream",
     "text": [
      "7\n"
     ]
    },
    {
     "data": {
      "text/plain": [
       "array([[0., 1., 2., 3., 4., 5., 6.],\n",
       "       [1., 1., 2., 3., 4., 5., 6.],\n",
       "       [2., 2., 2., 3., 4., 5., 6.],\n",
       "       [3., 3., 3., 3., 4., 5., 6.],\n",
       "       [4., 4., 4., 4., 4., 5., 6.],\n",
       "       [5., 5., 5., 5., 5., 5., 6.],\n",
       "       [6., 6., 6., 6., 6., 6., 6.]])"
      ]
     },
     "execution_count": 29,
     "metadata": {},
     "output_type": "execute_result"
    }
   ],
   "source": [
    "n = int(input())\n",
    "arr = ones((n, n)) * (n - 1)\n",
    "for i in range(n - 1, -1, -1):\n",
    "    arr[:i, :i] = ones((i, i)) * (i - 1)\n",
    "arr\n",
    "# я не делал вывод, лишь правильно заполнил массив"
   ]
  },
  {
   "cell_type": "markdown",
   "id": "ca86320e",
   "metadata": {},
   "source": [
    "---\n",
    "## Задачи для самостоятельного выполнения\n",
    "Дедлайн 26сен23 23:59.\n",
    "1. <a href=\"https://informatics.msk.ru/mod/statements/view.php?id=4535&chapterid=3752#1\" target=\"_blank\">Встречалось ли число раньше</a>\n",
    "2. <a href=\"https://informatics.msk.ru/mod/statements/view.php?id=4535&chapterid=3757#1\" target=\"_blank\">Полиглоты</a>\n",
    "3. <a href=\"https://informatics.msk.ru/mod/statements/view.php?id=4898&chapterid=111202#1\" target=\"_blank\">Квадраты - 2</a>\n",
    "\n",
    "В первой задаче для ввода чисел в одну строку предпочтительно использовать следующее:"
   ]
  },
  {
   "cell_type": "code",
   "execution_count": 30,
   "id": "6feaac31",
   "metadata": {},
   "outputs": [
    {
     "name": "stdout",
     "output_type": "stream",
     "text": [
      "1 4 2 6 3 5\n"
     ]
    },
    {
     "data": {
      "text/plain": [
       "array([1, 4, 2, 6, 3, 5])"
      ]
     },
     "execution_count": 30,
     "metadata": {},
     "output_type": "execute_result"
    }
   ],
   "source": [
    "arr = array(list(map(int, input().split())))\n",
    "arr"
   ]
  },
  {
   "cell_type": "markdown",
   "id": "eebf6e2d",
   "metadata": {},
   "source": [
    "При решении этих задач **обязательно** использовать типы данных, пройденных на этом уроке (не обязательно все)."
   ]
  }
 ],
 "metadata": {
  "kernelspec": {
   "display_name": "Python 3 (ipykernel)",
   "language": "python",
   "name": "python3"
  },
  "language_info": {
   "codemirror_mode": {
    "name": "ipython",
    "version": 3
   },
   "file_extension": ".py",
   "mimetype": "text/x-python",
   "name": "python",
   "nbconvert_exporter": "python",
   "pygments_lexer": "ipython3",
   "version": "3.9.13"
  }
 },
 "nbformat": 4,
 "nbformat_minor": 5
}
