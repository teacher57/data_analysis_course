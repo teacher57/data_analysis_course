{
 "cells": [
  {
   "cell_type": "markdown",
   "id": "cc131d16",
   "metadata": {},
   "source": [
    "6дек23\n",
    "\n",
    "# Матрицы. Продолжение\n",
    "\n",
    "* Как решать простые матричные уравнения?\n",
    "* Как связаны между собой матричные и линейные уравнения?\n",
    "* Как это закодить?\n",
    "\n",
    "## Матричные уравнения\n",
    "\n",
    "Я обленился, так что просто кину ссылку на [эту страницу](https://thecode.media/matrix-equation/), если ты пропустил урок или просто хочешь вспомнить теорию – тебе туда.\n"
   ]
  },
  {
   "cell_type": "code",
   "execution_count": 1,
   "id": "78a03534",
   "metadata": {},
   "outputs": [
    {
     "data": {
      "text/plain": [
       "(array([[3, 7],\n",
       "        [2, 8]]),\n",
       " array([[4, 8],\n",
       "        [6, 2]]))"
      ]
     },
     "execution_count": 1,
     "metadata": {},
     "output_type": "execute_result"
    }
   ],
   "source": [
    "# уравнение вида A * X = B\n",
    "\n",
    "import numpy as np\n",
    "A = np.array([[3, 7], \n",
    "              [2, 8]])\n",
    "\n",
    "B = np.array([[4, 8], \n",
    "              [6, 2]])\n",
    "\n",
    "A, B"
   ]
  },
  {
   "cell_type": "markdown",
   "id": "0324e695",
   "metadata": {},
   "source": [
    "Две матрицы есть. Из материала теории знаем, что $X = A^{-1} \\cdot B$. Так что находим $A^{-1} = \\frac{1}{|A|} \\cdot A^T_{ij}$"
   ]
  },
  {
   "cell_type": "code",
   "execution_count": 2,
   "id": "840b6035",
   "metadata": {},
   "outputs": [
    {
     "data": {
      "text/plain": [
       "10.000000000000002"
      ]
     },
     "execution_count": 2,
     "metadata": {},
     "output_type": "execute_result"
    }
   ],
   "source": [
    "# определитель\n",
    "det_A = np.linalg.det(A)\n",
    "det_A"
   ]
  },
  {
   "cell_type": "code",
   "execution_count": 3,
   "id": "5e20c411",
   "metadata": {},
   "outputs": [
    {
     "data": {
      "text/plain": [
       "array([[ 8, -7],\n",
       "       [-2,  3]])"
      ]
     },
     "execution_count": 3,
     "metadata": {},
     "output_type": "execute_result"
    }
   ],
   "source": [
    "# транспонированная матрица миноров\n",
    "\n",
    "M = A.copy()\n",
    "\n",
    "for i in (0, 1):\n",
    "    for j in (0, 1):\n",
    "        M[i][j] = (-1) ** (i + j) * A[(i + 1) % 2][(j + 1) % 2]\n",
    "        \n",
    "M = M.T\n",
    "M"
   ]
  },
  {
   "cell_type": "code",
   "execution_count": 4,
   "id": "779577e5",
   "metadata": {},
   "outputs": [
    {
     "data": {
      "text/plain": [
       "array([[ 0.8, -0.7],\n",
       "       [-0.2,  0.3]])"
      ]
     },
     "execution_count": 4,
     "metadata": {},
     "output_type": "execute_result"
    }
   ],
   "source": [
    "# обратная матрицы\n",
    "A_inv = (1 / det_A) * M\n",
    "A_inv"
   ]
  },
  {
   "cell_type": "code",
   "execution_count": 5,
   "id": "8f197b4f",
   "metadata": {},
   "outputs": [
    {
     "data": {
      "text/plain": [
       "array([[1., 0.],\n",
       "       [0., 1.]])"
      ]
     },
     "execution_count": 5,
     "metadata": {},
     "output_type": "execute_result"
    }
   ],
   "source": [
    "# проверим по свойству\n",
    "A_inv.dot(A)"
   ]
  },
  {
   "cell_type": "code",
   "execution_count": 6,
   "id": "34372d3b",
   "metadata": {},
   "outputs": [
    {
     "data": {
      "text/plain": [
       "array([[-1.,  5.],\n",
       "       [ 1., -1.]])"
      ]
     },
     "execution_count": 6,
     "metadata": {},
     "output_type": "execute_result"
    }
   ],
   "source": [
    "# находим Х\n",
    "X = A_inv.dot(B)\n",
    "X"
   ]
  },
  {
   "cell_type": "code",
   "execution_count": 7,
   "id": "2f528345",
   "metadata": {},
   "outputs": [
    {
     "data": {
      "text/plain": [
       "array([[4., 8.],\n",
       "       [6., 2.]])"
      ]
     },
     "execution_count": 7,
     "metadata": {},
     "output_type": "execute_result"
    }
   ],
   "source": [
    "# проверка A * X == B\n",
    "A.dot(X)"
   ]
  },
  {
   "cell_type": "markdown",
   "id": "d83f2a13",
   "metadata": {},
   "source": [
    "## Это все имеет значение,\n",
    "потому что помогает решать системы линейных уравнений.\n",
    "$$\n",
    "\\begin{equation*}\n",
    " \\begin{cases}\n",
    "   3 x + 2 y - z = 8 \n",
    "   \\\\\n",
    "   x - y + z = -2 \n",
    "   \\\\\n",
    "   2 x - 3 y - 5 z = 1 \n",
    " \\end{cases}\n",
    "\\end{equation*}\n",
    "$$\n",
    "Эту систему можно представить, как\n",
    "$A \\cdot X = B$, где"
   ]
  },
  {
   "cell_type": "code",
   "execution_count": 8,
   "id": "8c9bf6fe",
   "metadata": {},
   "outputs": [
    {
     "data": {
      "text/plain": [
       "array([[ 0.20512821,  0.33333333,  0.02564103],\n",
       "       [ 0.17948718, -0.33333333, -0.1025641 ],\n",
       "       [-0.02564103,  0.33333333, -0.12820513]])"
      ]
     },
     "execution_count": 8,
     "metadata": {},
     "output_type": "execute_result"
    }
   ],
   "source": [
    "A = np.array([[3,  2, -1],\n",
    "              [1, -1,  1],\n",
    "              [2, -3, -5]])\n",
    "\n",
    "B = np.array([[ 8],\n",
    "              [-2],\n",
    "              [ 1]])\n",
    "\n",
    "# X = [[x], [y], [z]]\n",
    "\n",
    "# определитель\n",
    "det_A = np.linalg.det(A)\n",
    "\n",
    "import lib.l9 as l9 \n",
    "# эта функция возвращает определитель минора в матрице по координатам\n",
    "# тестировал только на матрице 3х3\n",
    "\n",
    "A_inv = np.array([[l9.f(A, i, j) * (-1) ** (i + j) for j in range(len(A[i]))] for i in range(len(A))])\n",
    "A_inv = (1 / det_A) * A_inv.T\n",
    "A_inv\n",
    "\n",
    "# получившаяся обратная матрица"
   ]
  },
  {
   "cell_type": "code",
   "execution_count": 9,
   "id": "a369a0f0",
   "metadata": {},
   "outputs": [
    {
     "data": {
      "text/plain": [
       "array([[ 1.00000000e+00, -1.38777878e-17,  1.38777878e-17],\n",
       "       [-5.55111512e-17,  1.00000000e+00, -5.55111512e-17],\n",
       "       [ 0.00000000e+00,  5.55111512e-17,  1.00000000e+00]])"
      ]
     },
     "execution_count": 9,
     "metadata": {},
     "output_type": "execute_result"
    }
   ],
   "source": [
    "# проверка A_inv * A == 1\n",
    "# она очень старается выдать единичную матрицу, а получается вот такое\n",
    "# все числа кроме главной диагонали настолько близки к нулю, что на самом деле это все-таки 0\n",
    "\n",
    "A_inv.dot(A)"
   ]
  },
  {
   "cell_type": "code",
   "execution_count": 10,
   "id": "b988d548",
   "metadata": {},
   "outputs": [
    {
     "data": {
      "text/plain": [
       "array([[ 1.],\n",
       "       [ 2.],\n",
       "       [-1.]])"
      ]
     },
     "execution_count": 10,
     "metadata": {},
     "output_type": "execute_result"
    }
   ],
   "source": [
    "# ответ\n",
    "\n",
    "X = A_inv.dot(B)\n",
    "X"
   ]
  },
  {
   "cell_type": "code",
   "execution_count": 11,
   "id": "164bbc4e",
   "metadata": {},
   "outputs": [
    {
     "data": {
      "text/plain": [
       "array([[ 8.],\n",
       "       [-2.],\n",
       "       [ 1.]])"
      ]
     },
     "execution_count": 11,
     "metadata": {},
     "output_type": "execute_result"
    }
   ],
   "source": [
    "# проверка A * X == B\n",
    "\n",
    "A.dot(X)"
   ]
  },
  {
   "cell_type": "markdown",
   "id": "005f8991",
   "metadata": {},
   "source": [
    "### Уточню, что такой метод позволяет найти корень только в том случае, если он один. Если корней нет или их несколько – определитель будет равен нулю и нам придется делить $\\frac{1}{0}$, что все-таки проблематично.\n",
    "\n",
    "---\n",
    "## Задачи для самостоятельного выполнения\n",
    "Дедлайн 11дек23 23:59.\n",
    "\n",
    "При написании кода нельзя пользоваться **никакими** сторонними библиотеками.\n",
    "\n",
    "## Вариант 1\n",
    "Для обеих Маш, Марго, Кристины, Лизы и Златы. А также, может быть когда-нибудь, для Дани и (ну, вдруг) для Гриши.\n",
    "1. **Найти меня**, получить от меня **матричное уравнение** (того же вида, что представлен в материале урока и при мне же **решить его**.\n",
    "2. **Написать функцию.** Функция **принимает на вход** два списка (A, B), они же матрицы размера (3, 3), **выдает** список X, корень матричного уравнения A * X = B, если он один, или выводит ошибку, если уравнение не имеет корней или имеет больше одного корня.\n",
    "\n",
    "## Вариант 2\n",
    "Для обеих Арин, Иры, Ульяны, Вардана и Веры.\n",
    "1. **Найти меня**, получить от меня **матричное уравнение** (того же вида, что представлен в материале урока и при мне же **решить его**.\n",
    "2. **Написать функцию.** Функция **принимает на вход** два списка (A, B), они же матрицы произвольного размера, **выдает** список X, корень матричного уравнения A * X = B, если он один, или выводит ошибку, если уравнение не имеет корней или имеет больше одного корня.\n",
    "\n"
   ]
  }
 ],
 "metadata": {
  "kernelspec": {
   "display_name": "Python 3 (ipykernel)",
   "language": "python",
   "name": "python3"
  },
  "language_info": {
   "codemirror_mode": {
    "name": "ipython",
    "version": 3
   },
   "file_extension": ".py",
   "mimetype": "text/x-python",
   "name": "python",
   "nbconvert_exporter": "python",
   "pygments_lexer": "ipython3",
   "version": "3.11.5"
  }
 },
 "nbformat": 4,
 "nbformat_minor": 5
}
