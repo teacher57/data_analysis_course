{
 "cells": [
  {
   "cell_type": "markdown",
   "id": "0c3758e2",
   "metadata": {},
   "source": [
    "13дек23\n",
    "\n",
    "### Материала этой работы не будет в контрольной. За эту работу нельзя получить плохую оценку. Она для тебя, если ты сдал все работы с 1 по 7.\n",
    "\n",
    "# Классы в python на примере Перцептрона.\n",
    "\n",
    "## Что такое Перцептрон?\n",
    "Перцептрон - это алгоритм линейной классификации, используемый для разделения двух классов. Он обучается находить границу принятия решений, разделяющую два класса с использованием прямой. Перцептрон является базовой однослойной нейронной сетью, вдохновленной базовыми элементами обработки в мозге, называемыми нейронами. Он используется для принятия решения, принадлежит ли вход к одному классу или другому.\n",
    "</br>На 6-7 уроках мы проходили метод k-средних, но он не идеален, так как он не сможет обучиться правильно кластеризовать такие данные."
   ]
  },
  {
   "cell_type": "code",
   "execution_count": 1,
   "id": "54b0c8e0",
   "metadata": {},
   "outputs": [
    {
     "data": {
      "image/png": "[encoded data removed]",
      "text/plain": [
       "<Figure size 500x500 with 1 Axes>"
      ]
     },
     "metadata": {},
     "output_type": "display_data"
    }
   ],
   "source": [
    "import pandas as pd\n",
    "import numpy as np\n",
    "import matplotlib.pyplot as plt\n",
    "\n",
    "np.random.seed(1)\n",
    "\n",
    "df = pd.DataFrame({'a':[2, -2, 7, -7],\n",
    "                   'b':[2, -2, -7, 7],\n",
    "                   'cluster':[0, 0, 1, 1]})\n",
    "\n",
    "fig, ax = plt.subplots(figsize=(5, 5))\n",
    "ax.scatter(x=df['a'], y=df['b'], c=df['cluster'])\n",
    "plt.show()"
   ]
  },
  {
   "cell_type": "markdown",
   "id": "f8112cfe",
   "metadata": {},
   "source": [
    "Для таких случаев используют более сложные алгоритмы из нескольких перцептронов, в чаще нескольких слоев перцептронов. Для дальнейшего понимания очень советую посмотреть [этот](https://www.youtube.com/watch?v=RJCIYBAAiEI&t=12s) видос. Дальше напишу класс перцептрона."
   ]
  },
  {
   "cell_type": "code",
   "execution_count": 2,
   "id": "fc8c010f",
   "metadata": {},
   "outputs": [],
   "source": [
    "class Perceptron:\n",
    "    def __init__(self, num_features):\n",
    "        self.weights = [np.random.uniform(0, 1) for _ in range(num_features)]\n",
    "        # self.weights = [0 for _ in range(num_features)]\n",
    "\n",
    "    def predict(self, inputs):\n",
    "        activation = 0\n",
    "        for i in range(len(self.weights)):\n",
    "            activation += self.weights[i] * inputs[i]\n",
    "        return 1 if activation > 0 else -1\n",
    "\n",
    "    def train(self, training_inputs, labels, learning_rate=0.1, epochs=100):\n",
    "        for _ in range(epochs):\n",
    "            for inputs, label in zip(training_inputs, labels):\n",
    "                prediction = self.predict(inputs)\n",
    "                for i in range(len(self.weights)):\n",
    "                    self.weights[i] += learning_rate * (label - prediction) * inputs[i]"
   ]
  },
  {
   "cell_type": "markdown",
   "id": "9a9a6109",
   "metadata": {},
   "source": [
    "Вот подробное объяснение каждой функции:\n",
    "1. *\\_\\_init__(self, num_features)* </br>Это конструктор класса. Он инициализирует веса перцептрона. num_features - количество признаков во входных данных. Веса инициализируются рандомно.\n",
    "2. *predict(self, inputs)* </br>Это метод, который принимает входные данные и возвращает прогноз перцептрона для этих данных. Он вычисляет взвешенную сумму входов с учетом весов и смещения, а затем применяет пороговую функцию, возвращая 1, если активация больше 0, и -1 в противном случае.\n",
    "3. *train(self, training_inputs, labels, learning_rate=0.1, epochs=100)* </br>Это метод, который обучает перцептрон на основе входных данных и соответствующих меток. Он использует алгоритм обучения перцептрона, чтобы корректировать веса в течение нескольких эпох. Параметры learning_rate и epochs управляют скоростью обучения и количеством итераций обучения соответственно. </br>Последняя отвечает за корректировку весов в процессе обучения перцептрона. Более конкретно, в этой строке происходит обновление весов на основе ошибки предсказания и входных данных. Это осуществляется с использованием алгоритма обучения перцептрона, который корректирует веса с учётом заданной скорости обучения и разницы между предсказанной меткой и фактической меткой.\n",
    "\n",
    "### Теперь разберемся с данными\n",
    "Я хочу, чтобы перцептрон обучился выдавать 1, если первое число больше второго, и -1, если меньше или равно."
   ]
  },
  {
   "cell_type": "code",
   "execution_count": 3,
   "id": "2821f339",
   "metadata": {},
   "outputs": [
    {
     "data": {
      "text/html": [
       "<div>\n",
       "<style scoped>\n",
       "    .dataframe tbody tr th:only-of-type {\n",
       "        vertical-align: middle;\n",
       "    }\n",
       "\n",
       "    .dataframe tbody tr th {\n",
       "        vertical-align: top;\n",
       "    }\n",
       "\n",
       "    .dataframe thead th {\n",
       "        text-align: right;\n",
       "    }\n",
       "</style>\n",
       "<table border=\"1\" class=\"dataframe\">\n",
       "  <thead>\n",
       "    <tr style=\"text-align: right;\">\n",
       "      <th></th>\n",
       "      <th>in</th>\n",
       "      <th>out</th>\n",
       "    </tr>\n",
       "  </thead>\n",
       "  <tbody>\n",
       "    <tr>\n",
       "      <th>0</th>\n",
       "      <td>(-5, 1)</td>\n",
       "      <td>-1</td>\n",
       "    </tr>\n",
       "    <tr>\n",
       "      <th>1</th>\n",
       "      <td>(2, -2)</td>\n",
       "      <td>1</td>\n",
       "    </tr>\n",
       "    <tr>\n",
       "      <th>2</th>\n",
       "      <td>(-1, 1)</td>\n",
       "      <td>-1</td>\n",
       "    </tr>\n",
       "    <tr>\n",
       "      <th>3</th>\n",
       "      <td>(-5, 5)</td>\n",
       "      <td>-1</td>\n",
       "    </tr>\n",
       "    <tr>\n",
       "      <th>4</th>\n",
       "      <td>(-10, 6)</td>\n",
       "      <td>-1</td>\n",
       "    </tr>\n",
       "    <tr>\n",
       "      <th>...</th>\n",
       "      <td>...</td>\n",
       "      <td>...</td>\n",
       "    </tr>\n",
       "    <tr>\n",
       "      <th>995</th>\n",
       "      <td>(-1, -8)</td>\n",
       "      <td>1</td>\n",
       "    </tr>\n",
       "    <tr>\n",
       "      <th>996</th>\n",
       "      <td>(9, -7)</td>\n",
       "      <td>1</td>\n",
       "    </tr>\n",
       "    <tr>\n",
       "      <th>997</th>\n",
       "      <td>(-8, -2)</td>\n",
       "      <td>-1</td>\n",
       "    </tr>\n",
       "    <tr>\n",
       "      <th>998</th>\n",
       "      <td>(-4, 1)</td>\n",
       "      <td>-1</td>\n",
       "    </tr>\n",
       "    <tr>\n",
       "      <th>999</th>\n",
       "      <td>(3, -4)</td>\n",
       "      <td>1</td>\n",
       "    </tr>\n",
       "  </tbody>\n",
       "</table>\n",
       "<p>1000 rows × 2 columns</p>\n",
       "</div>"
      ],
      "text/plain": [
       "           in  out\n",
       "0     (-5, 1)   -1\n",
       "1     (2, -2)    1\n",
       "2     (-1, 1)   -1\n",
       "3     (-5, 5)   -1\n",
       "4    (-10, 6)   -1\n",
       "..        ...  ...\n",
       "995  (-1, -8)    1\n",
       "996   (9, -7)    1\n",
       "997  (-8, -2)   -1\n",
       "998   (-4, 1)   -1\n",
       "999   (3, -4)    1\n",
       "\n",
       "[1000 rows x 2 columns]"
      ]
     },
     "execution_count": 3,
     "metadata": {},
     "output_type": "execute_result"
    }
   ],
   "source": [
    "def make_test(n, f=-10, t=10):\n",
    "    test = []\n",
    "    for i in range(n):\n",
    "        test.append([(np.random.randint(f, t), np.random.randint(f, t))])\n",
    "        new = np.sign(test[-1][0][0] - test[-1][0][1])\n",
    "        test[-1].append(new if new != 0 else -1)\n",
    "    test = pd.DataFrame(test)\n",
    "    test.columns = pd.Index(['in', 'out'])\n",
    "    return test\n",
    "\n",
    "train = make_test(1000)\n",
    "train"
   ]
  },
  {
   "cell_type": "code",
   "execution_count": 4,
   "id": "75950978",
   "metadata": {},
   "outputs": [
    {
     "data": {
      "text/html": [
       "<div>\n",
       "<style scoped>\n",
       "    .dataframe tbody tr th:only-of-type {\n",
       "        vertical-align: middle;\n",
       "    }\n",
       "\n",
       "    .dataframe tbody tr th {\n",
       "        vertical-align: top;\n",
       "    }\n",
       "\n",
       "    .dataframe thead th {\n",
       "        text-align: right;\n",
       "    }\n",
       "</style>\n",
       "<table border=\"1\" class=\"dataframe\">\n",
       "  <thead>\n",
       "    <tr style=\"text-align: right;\">\n",
       "      <th></th>\n",
       "      <th>in</th>\n",
       "      <th>out</th>\n",
       "    </tr>\n",
       "  </thead>\n",
       "  <tbody>\n",
       "    <tr>\n",
       "      <th>0</th>\n",
       "      <td>(1, 5)</td>\n",
       "      <td>-1</td>\n",
       "    </tr>\n",
       "    <tr>\n",
       "      <th>1</th>\n",
       "      <td>(-6, 8)</td>\n",
       "      <td>-1</td>\n",
       "    </tr>\n",
       "    <tr>\n",
       "      <th>2</th>\n",
       "      <td>(-6, 1)</td>\n",
       "      <td>-1</td>\n",
       "    </tr>\n",
       "    <tr>\n",
       "      <th>3</th>\n",
       "      <td>(1, -6)</td>\n",
       "      <td>1</td>\n",
       "    </tr>\n",
       "    <tr>\n",
       "      <th>4</th>\n",
       "      <td>(5, -9)</td>\n",
       "      <td>1</td>\n",
       "    </tr>\n",
       "    <tr>\n",
       "      <th>...</th>\n",
       "      <td>...</td>\n",
       "      <td>...</td>\n",
       "    </tr>\n",
       "    <tr>\n",
       "      <th>95</th>\n",
       "      <td>(9, -7)</td>\n",
       "      <td>1</td>\n",
       "    </tr>\n",
       "    <tr>\n",
       "      <th>96</th>\n",
       "      <td>(5, -3)</td>\n",
       "      <td>1</td>\n",
       "    </tr>\n",
       "    <tr>\n",
       "      <th>97</th>\n",
       "      <td>(5, -2)</td>\n",
       "      <td>1</td>\n",
       "    </tr>\n",
       "    <tr>\n",
       "      <th>98</th>\n",
       "      <td>(8, -1)</td>\n",
       "      <td>1</td>\n",
       "    </tr>\n",
       "    <tr>\n",
       "      <th>99</th>\n",
       "      <td>(4, -9)</td>\n",
       "      <td>1</td>\n",
       "    </tr>\n",
       "  </tbody>\n",
       "</table>\n",
       "<p>100 rows × 2 columns</p>\n",
       "</div>"
      ],
      "text/plain": [
       "         in  out\n",
       "0    (1, 5)   -1\n",
       "1   (-6, 8)   -1\n",
       "2   (-6, 1)   -1\n",
       "3   (1, -6)    1\n",
       "4   (5, -9)    1\n",
       "..      ...  ...\n",
       "95  (9, -7)    1\n",
       "96  (5, -3)    1\n",
       "97  (5, -2)    1\n",
       "98  (8, -1)    1\n",
       "99  (4, -9)    1\n",
       "\n",
       "[100 rows x 2 columns]"
      ]
     },
     "execution_count": 4,
     "metadata": {},
     "output_type": "execute_result"
    }
   ],
   "source": [
    "test = make_test(100)\n",
    "test"
   ]
  },
  {
   "cell_type": "markdown",
   "id": "b4ca25f3",
   "metadata": {},
   "source": [
    "## Приступим к обучению"
   ]
  },
  {
   "cell_type": "code",
   "execution_count": 5,
   "id": "b1ac159b",
   "metadata": {},
   "outputs": [
    {
     "data": {
      "text/plain": [
       "0.98"
      ]
     },
     "execution_count": 5,
     "metadata": {},
     "output_type": "execute_result"
    }
   ],
   "source": [
    "per1 = Perceptron(2) # на вход дается 2 числа\n",
    "per1.train(train['in'], train['out'])\n",
    "\n",
    "a, n = 0, len(test)\n",
    "for i in range(n):\n",
    "    if per1.predict(test.iloc[i, 0]) ==  test.iloc[i, 1]:\n",
    "        a += 1\n",
    "\n",
    "a / n"
   ]
  },
  {
   "cell_type": "code",
   "execution_count": 6,
   "id": "14d2c72c",
   "metadata": {},
   "outputs": [
    {
     "data": {
      "text/plain": [
       "[29.149264433772313, -27.760815244132008]"
      ]
     },
     "execution_count": 6,
     "metadata": {},
     "output_type": "execute_result"
    }
   ],
   "source": [
    "per1.weights"
   ]
  },
  {
   "cell_type": "markdown",
   "id": "f39e7f60",
   "metadata": {},
   "source": [
    "98% отличный результат, но могут возникнуть трудности, если немного поменять выборку. Теперь в ней будут числа не от -10 до 10, а от 1000 до 1010."
   ]
  },
  {
   "cell_type": "code",
   "execution_count": 7,
   "id": "b6220e85",
   "metadata": {},
   "outputs": [
    {
     "data": {
      "text/plain": [
       "0.49"
      ]
     },
     "execution_count": 7,
     "metadata": {},
     "output_type": "execute_result"
    }
   ],
   "source": [
    "test = make_test(100, 1000, 1010)\n",
    "\n",
    "a, n = 0, len(test)\n",
    "for i in range(n):\n",
    "    if per1.predict(test.iloc[i, 0]) ==  test.iloc[i, 1]:\n",
    "        a += 1\n",
    "\n",
    "a / n"
   ]
  },
  {
   "cell_type": "markdown",
   "id": "8008d071",
   "metadata": {},
   "source": [
    "Вот и поплыл наш Перцептрончик, значит ему нужна выборка с более близкими числами, сейчас исправим. Создам для этого новый Перцептронец."
   ]
  },
  {
   "cell_type": "code",
   "execution_count": 8,
   "id": "ae27ca68",
   "metadata": {},
   "outputs": [
    {
     "data": {
      "text/plain": [
       "1.0"
      ]
     },
     "execution_count": 8,
     "metadata": {},
     "output_type": "execute_result"
    }
   ],
   "source": [
    "train = make_test(100, 1000, 1010)\n",
    "\n",
    "per2 = Perceptron(2)\n",
    "per2.train(train['in'], train['out'])\n",
    "\n",
    "test = make_test(100, 1000, 1010)\n",
    "\n",
    "a, n = 0, len(test)\n",
    "for i in range(n):\n",
    "    if per2.predict(test.iloc[i, 0]) ==  test.iloc[i, 1]:\n",
    "        a += 1\n",
    "\n",
    "a / n"
   ]
  },
  {
   "cell_type": "code",
   "execution_count": 9,
   "id": "95d5aaf2",
   "metadata": {},
   "outputs": [
    {
     "data": {
      "text/plain": [
       "([29.149264433772313, -27.760815244132008],\n",
       " [740.6787584086908, -740.885352393222])"
      ]
     },
     "execution_count": 9,
     "metadata": {},
     "output_type": "execute_result"
    }
   ],
   "source": [
    "per1.weights, per2.weights"
   ]
  },
  {
   "cell_type": "markdown",
   "id": "50095a46",
   "metadata": {},
   "source": [
    "Интересно, что если с самого начала расставить в Перцептроне нулевые веса (строчка с решеткой в классе перцептрона), то при обучении он почти всегда будет приходить к противоположным числам (которые и будут правильным решением этой задачи)."
   ]
  },
  {
   "cell_type": "markdown",
   "id": "083699d5",
   "metadata": {},
   "source": [
    "---\n",
    "## Задача для самостоятельного выполнения\n",
    "\n",
    "Реализовать класс перцептрона, у которого будут не только веса, но и смещение. Обучить его выполнять функцию XOR (исключающее ИЛИ). Для обучения использовать собственную выборку. Функцию активации взять отсюда."
   ]
  },
  {
   "cell_type": "code",
   "execution_count": 10,
   "id": "2ffc366b",
   "metadata": {},
   "outputs": [
    {
     "data": {
      "text/plain": [
       "(1, 0, 1)"
      ]
     },
     "execution_count": 10,
     "metadata": {},
     "output_type": "execute_result"
    }
   ],
   "source": [
    "f = lambda a: 1 if a > 0.5 else 0\n",
    "f(10), f(-0.5), f(2 * 0.5 + -5 * 0.4 + 2)"
   ]
  }
 ],
 "metadata": {
  "kernelspec": {
   "display_name": "Python 3 (ipykernel)",
   "language": "python",
   "name": "python3"
  },
  "language_info": {
   "codemirror_mode": {
    "name": "ipython",
    "version": 3
   },
   "file_extension": ".py",
   "mimetype": "text/x-python",
   "name": "python",
   "nbconvert_exporter": "python",
   "pygments_lexer": "ipython3",
   "version": "3.11.5"
  }
 },
 "nbformat": 4,
 "nbformat_minor": 5
}
