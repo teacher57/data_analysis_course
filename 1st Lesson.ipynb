{
 "cells": [
  {
   "cell_type": "markdown",
   "id": "9ab0ec89",
   "metadata": {},
   "source": [
    "*13сен23*\n",
    "# Основы двумерных массивов\n",
    "Привет! Я решил начать писать этут курс здесь для того, чтобы у тебя всегда был простой доступ к методическим материалам, примерам кода и в общем-то всему,\n",
    "чему я пытаюсь тебя научить и что буду требовать для выставления оценок.\n",
    "\n",
    "Если ты просматриваешь этот файл в jupiter notebook, то будь осторожен с запуском полей, поля точно можно запускать по порядку, некоторые куски кода выдадут ошибку, если отойти от очередности их выполнения. При обновлении рабочей тетради все переменные сбрасываются.\n",
    "\n",
    "Так вот, что мы прошли сегодня на уроке\n",
    "## Двумерный массив\n",
    "– массив, каждый из элементов которого сам является массивом.\n"
   ]
  },
  {
   "cell_type": "code",
   "execution_count": 1,
   "id": "0151c76e",
   "metadata": {},
   "outputs": [],
   "source": [
    "# массив 3x3\n",
    "a = [[1, 2, 3], [4, 5, 6], [7, 8, 9]]\n",
    "\n",
    "# тот же массив, но задан нагляднее\n",
    "b = [[1, 2, 3],\n",
    "     [4, 5, 6],\n",
    "     [7, 8, 9]]"
   ]
  },
  {
   "cell_type": "markdown",
   "id": "5539c3d0",
   "metadata": {},
   "source": [
    "## Что досталось двумерным спискам в python от одномерных?\n",
    "Да в общем-то все, от методов, до применения циклов и условных операторов.\n",
    "### Индексы\n",
    "Индексация двумерных массивов отличается от индексации одномерных разве что тем, что для получения элемента массива нужно указывать двойной индекс, сначала индекс одного из внутренних массивов, а потом индекс элемента в этом внутреннем массиве. Чуть больше про индексы вы узнаете на следующих занятиях.\n",
    "\n",
    "Не забывай, что массивы в python индексируются с нуля!"
   ]
  },
  {
   "cell_type": "code",
   "execution_count": 2,
   "id": "4adb217c",
   "metadata": {},
   "outputs": [
    {
     "name": "stdout",
     "output_type": "stream",
     "text": [
      "[1, 2, 3]\n",
      "6\n"
     ]
    }
   ],
   "source": [
    "arr = a[0] # получим весь список [1, 2, 3]\n",
    "print(arr)\n",
    "\n",
    "elem = a[1][2] # получим одно число (6)\n",
    "print(elem)"
   ]
  },
  {
   "cell_type": "markdown",
   "id": "9f293707",
   "metadata": {},
   "source": [
    "### Методы"
   ]
  },
  {
   "cell_type": "code",
   "execution_count": 3,
   "id": "f6069913",
   "metadata": {},
   "outputs": [
    {
     "name": "stdout",
     "output_type": "stream",
     "text": [
      "[[1, 2, 3], [4, 5, 6], [7, 8, 9], [13, 14, 15]]\n"
     ]
    }
   ],
   "source": [
    "# добавление элемента в конец массива\n",
    "a.append([13, 14, 15])\n",
    "print(a)"
   ]
  },
  {
   "cell_type": "code",
   "execution_count": 4,
   "id": "a97386f5",
   "metadata": {},
   "outputs": [
    {
     "name": "stdout",
     "output_type": "stream",
     "text": [
      "[[1, 2, 3], [4, 5, 6], [7, 8, 9], [10, 11, 12], [13, 14, 15]]\n"
     ]
    }
   ],
   "source": [
    "a.insert(3, [10, 11, 12])\n",
    "print(a)"
   ]
  },
  {
   "cell_type": "code",
   "execution_count": 5,
   "id": "b019ff05",
   "metadata": {},
   "outputs": [
    {
     "name": "stdout",
     "output_type": "stream",
     "text": [
      "[[1, 2, 3], [4, 5, 6], [7, 8, 9], [10, 11, 12]]\n",
      "[[1, 2, 3], [7, 8, 9], [10, 11, 12]]\n",
      "[[1, 2, 3], [8, 9], [10, 11, 12]]\n"
     ]
    }
   ],
   "source": [
    "# удаление элемента из массива по индексу\n",
    "a.pop() # без указания номера удаляет последний элемент\n",
    "print(a)\n",
    "\n",
    "a.pop(1) # при введении числа, удаляет элемент массива с указанным индексом\n",
    "print(a)\n",
    "\n",
    "a[1].pop(0) # при таком синтаксисе удалит нулевой элемент в первом вложенном массиве\n",
    "print(a)"
   ]
  },
  {
   "cell_type": "code",
   "execution_count": 6,
   "id": "238c5c5e",
   "metadata": {},
   "outputs": [
    {
     "name": "stdout",
     "output_type": "stream",
     "text": [
      "[[1, 2, 3], [10, 11, 12]]\n"
     ]
    }
   ],
   "source": [
    "# удаление элемента из массива по значению\n",
    "a.remove([8, 9]) # удаляет из массива первый элемент с указанным значением\n",
    "# если элемента с таким значением в массиве нет – выдаст ошибку\n",
    "# попробуй запустить этот код дважды и ты увидишь, какую ошибку он выдаст (:\n",
    "print(a)"
   ]
  },
  {
   "cell_type": "markdown",
   "id": "88cf90b4",
   "metadata": {},
   "source": [
    "### Генератор массива\n",
    "– короткий и быстрый способ создания массива с помощью цикла for"
   ]
  },
  {
   "cell_type": "code",
   "execution_count": 7,
   "id": "661d70b1",
   "metadata": {},
   "outputs": [
    {
     "name": "stdout",
     "output_type": "stream",
     "text": [
      "[0, 5, 10, 15, 20]\n",
      "[[1, 2, 3], [4, 5, 6], [7, 8, 9]]\n"
     ]
    }
   ],
   "source": [
    "# пример создания одномерного массива\n",
    "a = [i for i in range(0, 25, 5)]\n",
    "print(a)\n",
    "\n",
    "# пример создания двумерного массива\n",
    "b = [[i, i + 1, i + 2] for i in range(1, 10, 3)]\n",
    "print(b)"
   ]
  },
  {
   "cell_type": "code",
   "execution_count": 8,
   "id": "5d2ce81f",
   "metadata": {},
   "outputs": [
    {
     "name": "stdout",
     "output_type": "stream",
     "text": [
      "[[0, 0, 0, 0, 0], [0, 0, 0, 0, 0], [0, 0, 0, 0, 0]]\n"
     ]
    }
   ],
   "source": [
    "# пример создания двумерного массива по размерам\n",
    "n, m = 3, 5\n",
    "a = [[0] * m for i in range(n)]\n",
    "print(a)"
   ]
  },
  {
   "cell_type": "markdown",
   "id": "1684e23b",
   "metadata": {},
   "source": [
    "После задания массива, заполненного нулями, его можно поэлементно ввести"
   ]
  },
  {
   "cell_type": "code",
   "execution_count": 9,
   "id": "ac02aa23",
   "metadata": {},
   "outputs": [
    {
     "name": "stdout",
     "output_type": "stream",
     "text": [
      "1\n",
      "2\n",
      "3\n",
      "4\n",
      "5\n",
      "2\n",
      "3\n",
      "4\n",
      "5\n",
      "6\n",
      "3\n",
      "4\n",
      "5\n",
      "6\n",
      "7\n",
      "[[1, 2, 3, 4, 5], [2, 3, 4, 5, 6], [3, 4, 5, 6, 7]]\n"
     ]
    }
   ],
   "source": [
    "for i in range(n):\n",
    "    for j in range(m):\n",
    "        a[i][j] = int(input())\n",
    "print(a)"
   ]
  },
  {
   "cell_type": "markdown",
   "id": "5cbbafb9",
   "metadata": {},
   "source": [
    "Теперь время для оформления вывода, при просмотре двумерного массива гораздо удобнее видеть его в формате таблицы"
   ]
  },
  {
   "cell_type": "code",
   "execution_count": 10,
   "id": "fb5cbd6a",
   "metadata": {},
   "outputs": [
    {
     "name": "stdout",
     "output_type": "stream",
     "text": [
      "1 2 3 4 5\n",
      "2 3 4 5 6\n",
      "3 4 5 6 7\n"
     ]
    }
   ],
   "source": [
    "# вывод массива без запятых\n",
    "for i in range(n):\n",
    "    print(*a[i])"
   ]
  },
  {
   "cell_type": "markdown",
   "id": "dc79b3f1",
   "metadata": {},
   "source": [
    "### [Задача \"Слева направо, сверху вниз\"](https://informatics.msk.ru/mod/statements/view.php?id=4898&chapterid=111197#1)"
   ]
  },
  {
   "cell_type": "code",
   "execution_count": 11,
   "id": "b6ba7f20",
   "metadata": {},
   "outputs": [
    {
     "name": "stdout",
     "output_type": "stream",
     "text": [
      "5\n",
      "6\n",
      " 0  1  2  3  4  5 \n",
      " 6  7  8  9 10 11 \n",
      "12 13 14 15 16 17 \n",
      "18 19 20 21 22 23 \n",
      "24 25 26 27 28 29 \n"
     ]
    }
   ],
   "source": [
    "n = int(input())\n",
    "m = int(input())\n",
    "\n",
    "# в этих трех строчках содержится основное решение задачи, то есть заполнение массива\n",
    "a = [[i for i in range(m)]]\n",
    "for i in range(1, n):\n",
    "    a.append([j + a[i - 1][-1] for j in range(1, m + 1)])\n",
    "\n",
    "# в этом куске всего лишь разбираюсь с форматом вывода\n",
    "for i in range(n):\n",
    "    for j in range(m):\n",
    "        elem = str(a[i][j])\n",
    "        if len(elem) == 1:\n",
    "            elem = \" \" + elem\n",
    "        print(elem, end = \" \")\n",
    "    print()"
   ]
  },
  {
   "cell_type": "markdown",
   "id": "d9fa393d",
   "metadata": {},
   "source": [
    "При приеме работ я обязательно обращаю внимание на отступы, и общее оформление кода. По [ссылке](https://pythonworld.ru/osnovy/pep-8-rukovodstvo-po-napisaniyu-koda-na-python.html?ysclid=lmhq7p6mry435142759) ты можешь прочитать про правила оформления кода, я не надеюсь, что ты прочитаешь его целиком, но обрати внимание на названия переменных, пробелы, табуляции и пустые строки. Также я бы не очень хотел видеть строки кода длиннее экрана."
   ]
  },
  {
   "cell_type": "markdown",
   "id": "1930ac52",
   "metadata": {},
   "source": [
    "---\n",
    "## Задачи для самостоятельного выполнения\n",
    "Дедлайн 19сен23 23:59.\n",
    "1. [Нумерация диагоналей](https://informatics.msk.ru/mod/statements/view.php?id=4898&chapterid=111204#1)\n",
    "2. [Змейка](https://informatics.msk.ru/mod/statements/view.php?id=4898&chapterid=111213#1)\n",
    "3. [Квадраты](https://informatics.msk.ru/mod/statements/view.php?id=4898&chapterid=111201#1)\n",
    "4. [Квадранты](https://informatics.msk.ru/mod/statements/view.php?id=4898&chapterid=111211#1)\n",
    "\n",
    "Эти задачи нужно прислать мне до дедлайна одним файлом в формате .ipynb"
   ]
  }
 ],
 "metadata": {
  "kernelspec": {
   "display_name": "Python 3 (ipykernel)",
   "language": "python",
   "name": "python3"
  },
  "language_info": {
   "codemirror_mode": {
    "name": "ipython",
    "version": 3
   },
   "file_extension": ".py",
   "mimetype": "text/x-python",
   "name": "python",
   "nbconvert_exporter": "python",
   "pygments_lexer": "ipython3",
   "version": "3.9.13"
  }
 },
 "nbformat": 4,
 "nbformat_minor": 5
}
